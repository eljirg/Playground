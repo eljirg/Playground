{
 "cells": [
  {
   "cell_type": "code",
   "execution_count": 1,
   "metadata": {
    "collapsed": true
   },
   "outputs": [],
   "source": [
    "import os\n",
    "import string"
   ]
  },
  {
   "cell_type": "markdown",
   "metadata": {},
   "source": [
    "# Ver 1"
   ]
  },
  {
   "cell_type": "code",
   "execution_count": 2,
   "metadata": {
    "collapsed": true
   },
   "outputs": [],
   "source": [
    "def rename_files():\n",
    "    # 1. Get file names from directory\n",
    "    file_list = os.listdir(r'C:\\Users\\eljir\\DS\\Playground\\# Secret Message\\alphabet_secret')           \n",
    "\n",
    "    # 2. Define filter\n",
    "    def strfilter(validChars):\n",
    "        vc = set(validChars)\n",
    "        def filter(str):\n",
    "            return ''.join(char for char in str if char in vc)\n",
    "        return filter\n",
    "\n",
    "    filterAlpha = strfilter(string.ascii_letters + '.')\n",
    "    \n",
    "    # 3. For each file, rename file name\n",
    "    # os.getcwd()\n",
    "    # check the current working directory if it is already ok, change if different\n",
    "    os.chdir(r'C:\\Users\\eljir\\DS\\Playground\\# Secret Message\\alphabet_secret')\n",
    "    \n",
    "    for file_name in file_list: \n",
    "        os.rename(file_name, filterAlpha(file_name))\n",
    "\n",
    "rename_files()"
   ]
  },
  {
   "cell_type": "markdown",
   "metadata": {},
   "source": [
    "# Ver 2"
   ]
  },
  {
   "cell_type": "code",
   "execution_count": 3,
   "metadata": {
    "collapsed": true
   },
   "outputs": [],
   "source": [
    "file_list = os.listdir(r'C:\\Users\\eljir\\DS\\Playground\\# Secret Message\\alphabet_secret')\n",
    "\n",
    "os.chdir(r'C:\\Users\\eljir\\DS\\Playground\\# Secret Message\\alphabet_secret')\n",
    "\n",
    "def strfilter(validChars):\n",
    "    vc = set(validChars)\n",
    "    def filter(str):\n",
    "        return ''.join(char for char in str if char in vc)\n",
    "    return filter\n",
    "filterAlpha = strfilter(string.ascii_letters + '.')\n",
    "\n",
    "for file_name in file_list: \n",
    "    os.rename(file_name, filterAlpha(file_name))"
   ]
  },
  {
   "cell_type": "markdown",
   "metadata": {},
   "source": [
    "# Ver 3"
   ]
  },
  {
   "cell_type": "code",
   "execution_count": 4,
   "metadata": {},
   "outputs": [],
   "source": [
    "file_list = os.listdir(r'C:\\Users\\eljir\\DS\\Playground\\# Secret Message\\alphabet_secret')\n",
    "\n",
    "os.chdir(r'C:\\Users\\eljir\\DS\\Playground\\# Secret Message\\alphabet_secret')\n",
    "\n",
    "ValidChars = set(string.ascii_letters + '.')\n",
    "\n",
    "for file_name in file_list: \n",
    "    os.rename(file_name, ''.join(char for char in file_name if char in ValidChars))"
   ]
  },
  {
   "cell_type": "markdown",
   "metadata": {},
   "source": [
    "Notes:\n",
    "s = \"-\";\n",
    "seq = (\"a\", \"b\", \"c\"); # This is sequence of strings.\n",
    "print s.join( seq )\n",
    "\n",
    "This is why ''.join() only combine without separator"
   ]
  },
  {
   "cell_type": "code",
   "execution_count": null,
   "metadata": {
    "collapsed": true
   },
   "outputs": [],
   "source": []
  }
 ],
 "metadata": {
  "kernelspec": {
   "display_name": "Python 3",
   "language": "python",
   "name": "python3"
  },
  "language_info": {
   "codemirror_mode": {
    "name": "ipython",
    "version": 3
   },
   "file_extension": ".py",
   "mimetype": "text/x-python",
   "name": "python",
   "nbconvert_exporter": "python",
   "pygments_lexer": "ipython3",
   "version": "3.6.1"
  }
 },
 "nbformat": 4,
 "nbformat_minor": 2
}
