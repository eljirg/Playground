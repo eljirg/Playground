{
 "cells": [
  {
   "cell_type": "code",
   "execution_count": 1,
   "metadata": {},
   "outputs": [
    {
     "name": "stdout",
     "output_type": "stream",
     "text": [
      "This document has no curse word!!!\n"
     ]
    }
   ],
   "source": [
    "# In Python 3 urllib has been split into separate modules so import both that are required:\n",
    "from urllib import request\n",
    "from urllib import parse\n",
    "\n",
    "def read_text():\n",
    "    quotes = open(r'C:\\Users\\eljir\\Documents\\# DATA SCIENCE\\# Study\\# Playground\\# Profanity Alert\\Movie_Quotes.txt')\n",
    "    contents_of_file = quotes.read()\n",
    "    quotes.close()\n",
    "    check_profanity(contents_of_file)\n",
    "        \n",
    "def check_profanity(text_to_check):\n",
    "    url = 'http://www.wdylike.appspot.com/?q='\n",
    "    query = parse.quote(text_to_check)\n",
    "    \n",
    "    connection = request.urlopen(url+query)\n",
    "    output = connection.read()\n",
    "\n",
    "# The read will return the output as BYTE and so when printed to the screen you'll\n",
    "# get the python 3 format of b'true' or b'false', the 'b' indicating a byte value.\n",
    "# Previous versions of python handled this differently.\n",
    "# We have to decode this from byte to a string:     \n",
    "    \n",
    "    output_str = bytes.decode(output)\n",
    "\n",
    "# Uncomment these 2 lines to see before and after decode values.\n",
    "# print(output)\n",
    "# print(output_str)\n",
    "    \n",
    "    if (output_str == 'true'):\n",
    "        print('Profanity alert!!!')\n",
    "    elif (output_str == 'false'):\n",
    "        print('This document has no curse word!!!')\n",
    "    else:\n",
    "        print('Could not scan the document correctly!!!')\n",
    "        \n",
    "    connection.close()          \n",
    "read_text()"
   ]
  },
  {
   "cell_type": "code",
   "execution_count": null,
   "metadata": {
    "collapsed": true
   },
   "outputs": [],
   "source": []
  }
 ],
 "metadata": {
  "kernelspec": {
   "display_name": "Python 3",
   "language": "python",
   "name": "python3"
  },
  "language_info": {
   "codemirror_mode": {
    "name": "ipython",
    "version": 3
   },
   "file_extension": ".py",
   "mimetype": "text/x-python",
   "name": "python",
   "nbconvert_exporter": "python",
   "pygments_lexer": "ipython3",
   "version": "3.6.1"
  }
 },
 "nbformat": 4,
 "nbformat_minor": 2
}
