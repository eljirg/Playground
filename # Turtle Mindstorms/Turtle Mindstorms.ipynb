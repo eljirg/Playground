{
 "cells": [
  {
   "cell_type": "markdown",
   "metadata": {},
   "source": [
    "# Note:\n",
    "When running, always clear kernel first or it will not run."
   ]
  },
  {
   "cell_type": "code",
   "execution_count": 1,
   "metadata": {},
   "outputs": [
    {
     "data": {
      "text/plain": [
       "'standard'"
      ]
     },
     "execution_count": 1,
     "metadata": {},
     "output_type": "execute_result"
    }
   ],
   "source": [
    "import turtle\n",
    "window = turtle.Screen()\n",
    "window.bgcolor('black')\n",
    "turtle.mode()"
   ]
  },
  {
   "cell_type": "code",
   "execution_count": 2,
   "metadata": {
    "collapsed": true
   },
   "outputs": [],
   "source": [
    "def draw_square():  \n",
    "    brad = turtle.Turtle()\n",
    "    brad.shape('turtle')\n",
    "    brad.color('yellow')\n",
    "    brad.speed(2)\n",
    "    i = 1\n",
    "    while i <= 4:\n",
    "        brad.forward(100)\n",
    "        brad.right(90)\n",
    "        i += 1\n",
    "\n",
    "def draw_circle():\n",
    "    angie = turtle.Turtle()\n",
    "    angie.shape('arrow')\n",
    "    angie.color('blue')\n",
    "    angie.circle(100)\n",
    "\n",
    "def draw_triangle():\n",
    "    charlie = turtle.Turtle()\n",
    "    charlie.shape('classic')\n",
    "    charlie.color('green')\n",
    "    charlie.speed(2)\n",
    "    \n",
    "    i = 1\n",
    "    while i <= 3:\n",
    "        charlie.backward(250)\n",
    "        charlie.left(120)\n",
    "        i += 1\n",
    "\n",
    "draw_square()\n",
    "draw_circle()\n",
    "draw_triangle()\n",
    "\n",
    "# turtle.bye()"
   ]
  },
  {
   "cell_type": "code",
   "execution_count": 3,
   "metadata": {
    "collapsed": true
   },
   "outputs": [],
   "source": [
    "def draw_square_circle():  \n",
    "    brad = turtle.Turtle()\n",
    "    brad.shape('turtle')\n",
    "    brad.color('yellow')\n",
    "    brad.speed(2)\n",
    "    \n",
    "    j = 0\n",
    "    while j < 36:\n",
    "        i = 1\n",
    "        while i <= 4:\n",
    "            brad.forward(100)\n",
    "            brad.right(90)\n",
    "            i += 1\n",
    "        brad.right(10)\n",
    "        j += 1\n",
    "        \n",
    "draw_square_circle()            "
   ]
  },
  {
   "cell_type": "code",
   "execution_count": 4,
   "metadata": {
    "collapsed": true
   },
   "outputs": [],
   "source": [
    "def draw_pyramid():\n",
    "    charlie = turtle.Turtle()\n",
    "    charlie.shape('turtle')\n",
    "    charlie.color('yellow')\n",
    "    charlie.fillcolor(\"orange\")\n",
    "    charlie.speed(10)\n",
    "    def draw_pyramid_medium_segment():\n",
    "        def draw_pyramid_small_segment():\n",
    "            charlie.begin_fill()\n",
    "            charlie.right(180)    \n",
    "            charlie.forward(50)\n",
    "            charlie.right(120)    \n",
    "            charlie.forward(50)\n",
    "            charlie.right(120)    \n",
    "            charlie.forward(25)\n",
    "            charlie.right(120)    \n",
    "            charlie.forward(25)\n",
    "            charlie.left(120)    \n",
    "            charlie.forward(25)\n",
    "            charlie.left(120)    \n",
    "            charlie.forward(25)\n",
    "            charlie.right(120)    \n",
    "            charlie.forward(25) \n",
    "            charlie.left(60)\n",
    "            charlie.end_fill()\n",
    "        draw_pyramid_small_segment()\n",
    "        charlie.backward(50)     \n",
    "        draw_pyramid_small_segment()\n",
    "        charlie.left(60)\n",
    "        charlie.forward(50)\n",
    "        charlie.right(60)\n",
    "        draw_pyramid_small_segment()\n",
    "        charlie.right(60)\n",
    "        charlie.forward(50)\n",
    "        charlie.left(60)   \n",
    "    draw_pyramid_medium_segment()\n",
    "    charlie.backward(100)    \n",
    "    draw_pyramid_medium_segment()\n",
    "    charlie.left(60)\n",
    "    charlie.forward(100)\n",
    "    charlie.right(60)\n",
    "    draw_pyramid_medium_segment()\n",
    "    charlie.right(60)\n",
    "    charlie.forward(100)\n",
    "    charlie.left(60)       \n",
    "    \n",
    "draw_pyramid()  "
   ]
  },
  {
   "cell_type": "markdown",
   "metadata": {},
   "source": [
    "# Other's Code"
   ]
  },
  {
   "cell_type": "code",
   "execution_count": 5,
   "metadata": {
    "collapsed": true
   },
   "outputs": [],
   "source": [
    "from turtle import *\n",
    "# window = turtle.Screen()\n",
    "# window.bgcolor('red')\n",
    "color('red', 'yellow')\n",
    "begin_fill()\n",
    "while True:\n",
    "    forward(200)\n",
    "    left(170)\n",
    "    if abs(pos()) < 1:\n",
    "        break\n",
    "end_fill()\n",
    "done()"
   ]
  },
  {
   "cell_type": "code",
   "execution_count": null,
   "metadata": {
    "collapsed": true
   },
   "outputs": [],
   "source": []
  }
 ],
 "metadata": {
  "kernelspec": {
   "display_name": "Python 3",
   "language": "python",
   "name": "python3"
  },
  "language_info": {
   "codemirror_mode": {
    "name": "ipython",
    "version": 3
   },
   "file_extension": ".py",
   "mimetype": "text/x-python",
   "name": "python",
   "nbconvert_exporter": "python",
   "pygments_lexer": "ipython3",
   "version": "3.6.1"
  }
 },
 "nbformat": 4,
 "nbformat_minor": 2
}
